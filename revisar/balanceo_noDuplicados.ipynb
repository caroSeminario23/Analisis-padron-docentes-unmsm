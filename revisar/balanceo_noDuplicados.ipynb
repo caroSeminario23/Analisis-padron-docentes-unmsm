{
 "cells": [
  {
   "cell_type": "code",
   "execution_count": 1,
   "id": "3f317354",
   "metadata": {},
   "outputs": [],
   "source": [
    "# Importar librerías necesarias\n",
    "import pandas as pd\n",
    "from imblearn.under_sampling import RandomUnderSampler\n",
    "from sklearn.utils import shuffle, resample"
   ]
  },
  {
   "cell_type": "code",
   "execution_count": 2,
   "id": "d3bd312a",
   "metadata": {},
   "outputs": [
    {
     "name": "stdout",
     "output_type": "stream",
     "text": [
      "TIPOS DE DATOS\n",
      "==============\n",
      "<class 'pandas.core.frame.DataFrame'>\n",
      "RangeIndex: 1370 entries, 0 to 1369\n",
      "Data columns (total 11 columns):\n",
      " #   Column                Non-Null Count  Dtype \n",
      "---  ------                --------------  ----- \n",
      " 0   ITEM                  1370 non-null   int64 \n",
      " 1   CODIGO DOCENTE        1370 non-null   object\n",
      " 2   APELLIDO PATERNO      1370 non-null   object\n",
      " 3   APELLIDO MATERNO      1370 non-null   object\n",
      " 4   NOMBRES               1370 non-null   object\n",
      " 5   TIPO DOC IDENTIDAD    1370 non-null   object\n",
      " 6   N DOC IDENTIDAD       1370 non-null   object\n",
      " 7   CORREO INSTITUCIONAL  1370 non-null   object\n",
      " 8   FACULTAD              1370 non-null   object\n",
      " 9   TIPO TRABAJADOR       1370 non-null   object\n",
      " 10  MODALIDAD             1370 non-null   object\n",
      "dtypes: int64(1), object(10)\n",
      "memory usage: 117.9+ KB\n"
     ]
    }
   ],
   "source": [
    "# Guardar dataset en un dataframe\n",
    "df_docentes = pd.read_csv('Padron_docentes_normalizado.csv', sep=';', encoding='UTF-8')\n",
    "\n",
    "# Mostrar el dataframe\n",
    "print('TIPOS DE DATOS')\n",
    "print('==============')\n",
    "df_docentes.info()"
   ]
  },
  {
   "cell_type": "code",
   "execution_count": 3,
   "id": "672c89cc",
   "metadata": {},
   "outputs": [
    {
     "name": "stdout",
     "output_type": "stream",
     "text": [
      "TIPO TRABAJADOR\n",
      "Auxiliar     712\n",
      "Asociado     446\n",
      "Principal    212\n",
      "Name: count, dtype: int64\n"
     ]
    }
   ],
   "source": [
    "# Verificar el  balance de clases\n",
    "print(df_docentes['TIPO TRABAJADOR'].value_counts())"
   ]
  },
  {
   "cell_type": "code",
   "execution_count": 4,
   "id": "f9b79708",
   "metadata": {},
   "outputs": [],
   "source": [
    "# Separamos las características (X) de la variable objetivo (y)\n",
    "X = df_docentes.drop('TIPO TRABAJADOR', axis=1)\n",
    "y = df_docentes['TIPO TRABAJADOR']"
   ]
  },
  {
   "cell_type": "code",
   "execution_count": 5,
   "id": "5d9c926a",
   "metadata": {},
   "outputs": [],
   "source": [
    "# Configurar RandomUnderSampler para reducir las clases mayoritarias al tamaño de la minoritaria\n",
    "rus = RandomUnderSampler(random_state=42)\n",
    "X_res, y_res = rus.fit_resample(X, y)"
   ]
  },
  {
   "cell_type": "code",
   "execution_count": 6,
   "id": "25f0eee8",
   "metadata": {},
   "outputs": [],
   "source": [
    "# Reconstruir el DataFrame balanceado\n",
    "df_balanceo= pd.concat([X_res, y_res], axis=1)"
   ]
  },
  {
   "cell_type": "code",
   "execution_count": 7,
   "id": "9372150a",
   "metadata": {},
   "outputs": [
    {
     "name": "stdout",
     "output_type": "stream",
     "text": [
      "TIPO TRABAJADOR\n",
      "Asociado     212\n",
      "Auxiliar     212\n",
      "Principal    212\n",
      "Name: count, dtype: int64\n"
     ]
    }
   ],
   "source": [
    "# Verificar el nuevo balance de clases\n",
    "print(df_balanceo['TIPO TRABAJADOR'].value_counts())"
   ]
  },
  {
   "cell_type": "code",
   "execution_count": 8,
   "id": "0ff18f07",
   "metadata": {},
   "outputs": [],
   "source": [
    "# Exportar el dataframe a un archivo CSV\n",
    "df_balanceo.to_csv('Padron_docentes_balanceado_no_dupli.csv', sep=';', index=False, encoding='UTF-8')"
   ]
  }
 ],
 "metadata": {
  "kernelspec": {
   "display_name": "venv",
   "language": "python",
   "name": "python3"
  },
  "language_info": {
   "codemirror_mode": {
    "name": "ipython",
    "version": 3
   },
   "file_extension": ".py",
   "mimetype": "text/x-python",
   "name": "python",
   "nbconvert_exporter": "python",
   "pygments_lexer": "ipython3",
   "version": "3.13.0"
  }
 },
 "nbformat": 4,
 "nbformat_minor": 5
}
