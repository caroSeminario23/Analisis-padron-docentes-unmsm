{
 "cells": [
  {
   "cell_type": "code",
   "execution_count": 23,
   "id": "425a28bb",
   "metadata": {},
   "outputs": [],
   "source": [
    "# Importar librerías necesarias\n",
    "import pandas as pd\n",
    "from imblearn.under_sampling import RandomUnderSampler\n",
    "from sklearn.utils import shuffle, resample"
   ]
  },
  {
   "cell_type": "code",
   "execution_count": 24,
   "id": "21698292",
   "metadata": {},
   "outputs": [
    {
     "name": "stdout",
     "output_type": "stream",
     "text": [
      "TIPOS DE DATOS\n",
      "==============\n",
      "<class 'pandas.core.frame.DataFrame'>\n",
      "RangeIndex: 1370 entries, 0 to 1369\n",
      "Data columns (total 11 columns):\n",
      " #   Column                Non-Null Count  Dtype \n",
      "---  ------                --------------  ----- \n",
      " 0   ITEM                  1370 non-null   int64 \n",
      " 1   CODIGO DOCENTE        1370 non-null   object\n",
      " 2   APELLIDO PATERNO      1370 non-null   object\n",
      " 3   APELLIDO MATERNO      1370 non-null   object\n",
      " 4   NOMBRES               1370 non-null   object\n",
      " 5   TIPO DOC IDENTIDAD    1370 non-null   object\n",
      " 6   N DOC IDENTIDAD       1370 non-null   object\n",
      " 7   CORREO INSTITUCIONAL  1370 non-null   object\n",
      " 8   FACULTAD              1370 non-null   object\n",
      " 9   TIPO TRABAJADOR       1370 non-null   object\n",
      " 10  MODALIDAD             1370 non-null   object\n",
      "dtypes: int64(1), object(10)\n",
      "memory usage: 117.9+ KB\n"
     ]
    }
   ],
   "source": [
    "# Guardar dataset en un dataframe\n",
    "df_docentes = pd.read_csv('Padron_docentes_normalizado.csv', sep=';', encoding='UTF-8')\n",
    "\n",
    "# Mostrar el dataframe\n",
    "print('TIPOS DE DATOS')\n",
    "print('==============')\n",
    "df_docentes.info()"
   ]
  },
  {
   "cell_type": "code",
   "execution_count": 25,
   "id": "aa73751e",
   "metadata": {},
   "outputs": [
    {
     "name": "stdout",
     "output_type": "stream",
     "text": [
      "TIPO TRABAJADOR\n",
      "Auxiliar     712\n",
      "Asociado     446\n",
      "Principal    212\n",
      "Name: count, dtype: int64\n"
     ]
    }
   ],
   "source": [
    "# Verificar el  balance de clases\n",
    "print(df_docentes['TIPO TRABAJADOR'].value_counts())"
   ]
  },
  {
   "cell_type": "code",
   "execution_count": null,
   "id": "a485494d",
   "metadata": {},
   "outputs": [],
   "source": [
    "df_principal = df_docentes[df_docentes['TIPO TRABAJADOR'] == 'Principal']\n",
    "df_asociado = df_docentes[df_docentes['TIPO TRABAJADOR'] == 'Asociado']\n",
    "df_auxiliar = df_docentes[df_docentes['TIPO TRABAJADOR'] == 'Auxiliar']"
   ]
  },
  {
   "cell_type": "code",
   "execution_count": 27,
   "id": "c7dd4f64",
   "metadata": {},
   "outputs": [],
   "source": [
    "# Oversampling a \"Principal\": aumentar hasta 446 muestras\n",
    "df_principal_over = resample(df_principal, replace=True, n_samples=446, random_state=42)"
   ]
  },
  {
   "cell_type": "code",
   "execution_count": 28,
   "id": "8ef5c1a5",
   "metadata": {},
   "outputs": [],
   "source": [
    "# Undersampling a \"Auxiliar\": reducir hasta 446 muestras\n",
    "df_auxiliar_under = resample(df_auxiliar, replace=False, n_samples=446, random_state=42)"
   ]
  },
  {
   "cell_type": "code",
   "execution_count": 30,
   "id": "a708c221",
   "metadata": {},
   "outputs": [],
   "source": [
    "# Concatenar manteniendo el orden original: Principal + Asociado + Auxiliar\n",
    "df_balanced_ordered = pd.concat([df_principal_over, df_asociado, df_auxiliar_under], axis=0).reset_index(drop=True)"
   ]
  },
  {
   "cell_type": "code",
   "execution_count": 31,
   "id": "c47d77ab",
   "metadata": {},
   "outputs": [
    {
     "name": "stdout",
     "output_type": "stream",
     "text": [
      "TIPO TRABAJADOR\n",
      "Principal    446\n",
      "Asociado     446\n",
      "Auxiliar     446\n",
      "Name: count, dtype: int64\n"
     ]
    }
   ],
   "source": [
    "# Verificar el nuevo balance de clases\n",
    "print(df_balanced_ordered['TIPO TRABAJADOR'].value_counts())"
   ]
  },
  {
   "cell_type": "code",
   "execution_count": 33,
   "id": "a08bfa89",
   "metadata": {},
   "outputs": [],
   "source": [
    "#ordenar de maenor a mayor por el ITEM\n",
    "df_balanced_ordered = df_balanced_ordered.sort_values(by=['ITEM'])"
   ]
  },
  {
   "cell_type": "code",
   "execution_count": 34,
   "id": "ef57d565",
   "metadata": {},
   "outputs": [],
   "source": [
    "# Exportar el dataframe a un archivo CSV\n",
    "df_balanced_ordered.to_csv('Padron_docentes_balanceado.csv', sep=';', index=False, encoding='UTF-8')"
   ]
  }
 ],
 "metadata": {
  "kernelspec": {
   "display_name": "venv",
   "language": "python",
   "name": "python3"
  },
  "language_info": {
   "codemirror_mode": {
    "name": "ipython",
    "version": 3
   },
   "file_extension": ".py",
   "mimetype": "text/x-python",
   "name": "python",
   "nbconvert_exporter": "python",
   "pygments_lexer": "ipython3",
   "version": "3.13.0"
  }
 },
 "nbformat": 4,
 "nbformat_minor": 5
}
