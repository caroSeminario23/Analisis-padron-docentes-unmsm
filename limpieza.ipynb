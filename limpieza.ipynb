{
 "cells": [
  {
   "cell_type": "code",
   "execution_count": 53,
   "metadata": {},
   "outputs": [],
   "source": [
    "# Importar las librerías para trabajar la limpieza de datos\n",
    "import pandas as pd\n",
    "import numpy as np\n",
    "import matplotlib.pyplot as plt"
   ]
  },
  {
   "cell_type": "code",
   "execution_count": 54,
   "id": "e9661627",
   "metadata": {},
   "outputs": [],
   "source": [
    "# Importar el dataset (csv)\n",
    "df = pd.read_csv('Padron_docentes.csv', sep=';', encoding='UTF-8', low_memory=False)"
   ]
  },
  {
   "cell_type": "code",
   "execution_count": 27,
   "id": "1654955c",
   "metadata": {},
   "outputs": [],
   "source": [
    "# Visualizar las 5 primeras filas del dataset como un dataset\n",
    "df.head()"
   ]
  },
  {
   "cell_type": "code",
   "execution_count": 28,
   "id": "6fba579e",
   "metadata": {},
   "outputs": [],
   "source": [
    "# Contabilizar el número de filas y columnas del dataset\n",
    "print(f\"El dataset tiene {df.shape[0]} filas y {df.shape[1]} columnas.\")"
   ]
  },
  {
   "cell_type": "code",
   "execution_count": 29,
   "id": "c406758d",
   "metadata": {},
   "outputs": [],
   "source": [
    "# Contabilizar el número de registros duplicados\n",
    "print(f\"El dataset tiene {df.duplicated().sum()} registros duplicados.\")"
   ]
  },
  {
   "cell_type": "code",
   "execution_count": 30,
   "id": "2025604f",
   "metadata": {},
   "outputs": [],
   "source": [
    "# Contabilizar los campos vacíos dentro de cada columna del dataset\n",
    "print(f\"El dataset tiene {df.isnull().sum().sum()} campos vacíos.\")"
   ]
  },
  {
   "cell_type": "code",
   "execution_count": 31,
   "id": "dede4d16",
   "metadata": {},
   "outputs": [],
   "source": [
    "# Mostrar cada registro que tiene campos vacíos\n",
    "df[df.isnull().any(axis=1)]"
   ]
  },
  {
   "cell_type": "code",
   "execution_count": 32,
   "id": "25006a5c",
   "metadata": {},
   "outputs": [],
   "source": [
    "# Cambiar el valor de la columna \"apellido paterno\" y \"apellido materno\" en la fila con número de item 659\n",
    "df.loc[658, 'APELLIDO PATERNO'] = 'FERNANDEZ'\n",
    "df.loc[658, 'APELLIDO MATERNO'] = ''"
   ]
  },
  {
   "cell_type": "code",
   "execution_count": 33,
   "id": "76485fc6",
   "metadata": {},
   "outputs": [],
   "source": [
    "# Repetir el valor de la columna \"apellido paterno\" en la columna \"apellido materno\" en la fila con número de items\n",
    "# 659, 171, 773, 997, 1337, 1768 y 1942\n",
    "df.loc[658, 'APELLIDO MATERNO'] = df.loc[658, 'APELLIDO PATERNO']\n",
    "df.loc[170, 'APELLIDO MATERNO'] = df.loc[170, 'APELLIDO PATERNO']\n",
    "df.loc[772, 'APELLIDO MATERNO'] = df.loc[772, 'APELLIDO PATERNO']\n",
    "df.loc[996, 'APELLIDO MATERNO'] = df.loc[996, 'APELLIDO PATERNO']\n",
    "df.loc[1336, 'APELLIDO MATERNO'] = df.loc[1336, 'APELLIDO PATERNO']\n",
    "df.loc[1767, 'APELLIDO MATERNO'] = df.loc[1767, 'APELLIDO PATERNO']\n",
    "df.loc[1941, 'APELLIDO MATERNO'] = df.loc[1941, 'APELLIDO PATERNO']"
   ]
  },
  {
   "cell_type": "code",
   "execution_count": 34,
   "id": "eb40b83a",
   "metadata": {},
   "outputs": [],
   "source": [
    "# Mostrar los registros con número de item 659, 171, 773, 997, 1337, 1768 y 1942\n",
    "df.loc[[658, 170, 772, 996, 1336, 1767, 1941]]"
   ]
  },
  {
   "cell_type": "code",
   "execution_count": 35,
   "id": "e24235d6",
   "metadata": {},
   "outputs": [],
   "source": [
    "# Convertir a formato capitalizable los valores de las columnas \"APELLIDO PATERNO\", \"APELLIDO MATERNO\", \"NOMBRES\"\n",
    "df['APELLIDO PATERNO'] = df['APELLIDO PATERNO'].str.title()\n",
    "df['APELLIDO MATERNO'] = df['APELLIDO MATERNO'].str.title()\n",
    "df['NOMBRES'] = df['NOMBRES'].str.title()"
   ]
  },
  {
   "cell_type": "code",
   "execution_count": 36,
   "id": "f4d3d78e",
   "metadata": {},
   "outputs": [],
   "source": [
    "# Mostrar los 5 primeros registros del dataset\n",
    "df.head()"
   ]
  },
  {
   "cell_type": "code",
   "execution_count": 37,
   "id": "3ab27434",
   "metadata": {},
   "outputs": [],
   "source": [
    "# Convertir datos a tipos adecuados\n",
    "df['ITEM'] = df['ITEM'].astype(int)\n",
    "df['CODIGO DOCENTE'] = df['CODIGO DOCENTE'].astype(str)\n",
    "df['APELLIDO PATERNO'] = df['APELLIDO PATERNO'].astype(str)\n",
    "df['APELLIDO MATERNO'] = df['APELLIDO MATERNO'].astype(str)\n",
    "df['NOMBRES'] = df['NOMBRES'].astype(str)\n",
    "df['CATEGORIA'] = df['CATEGORIA'].astype(str)\n",
    "df['TIPO DOC IDENTIDAD'] = df['TIPO DOC IDENTIDAD'].astype(str)\n",
    "df['N DOC IDENTIDAD'] = df['N DOC IDENTIDAD'].astype(str)\n",
    "df['CORREO INSTITUCIONAL'] = df['CORREO INSTITUCIONAL'].astype(str)\n",
    "df['FACULTAD'] = df['FACULTAD'].astype(str)"
   ]
  },
  {
   "cell_type": "code",
   "execution_count": 43,
   "id": "242f4d4f",
   "metadata": {},
   "outputs": [],
   "source": [
    "# Separar la columna \"CATEGORIA\" en dos columnas: \"TIPO TRABAJADOR\", \"MODALIDAD\" en base al primer espacio\n",
    "df[['TIPO_TRABAJADOR', 'MODALIDAD']] = df['CATEGORIA'].str.split(' ', n=1, expand=True)"
   ]
  },
  {
   "cell_type": "code",
   "execution_count": 44,
   "id": "9e4adf1f",
   "metadata": {},
   "outputs": [],
   "source": [
    "# Mostrar los 5 primeros registros del dataset\n",
    "df.head()"
   ]
  },
  {
   "cell_type": "code",
   "execution_count": 45,
   "id": "a8ece88f",
   "metadata": {},
   "outputs": [],
   "source": [
    "# Mostrar los valores únicos de la columna \"MODALIDAD\"\n",
    "df['MODALIDAD'].unique()"
   ]
  },
  {
   "cell_type": "code",
   "execution_count": 46,
   "id": "dccfe8ff",
   "metadata": {},
   "outputs": [],
   "source": [
    "# Mostrar las filas con unos de estos valores en la columna \"MODALIDAD\": \"Asociado T. Completo\", \"Principal T. Completo\",\n",
    "# \"Asociado D . E xclusiva. \", \"Asociado TP. 20hrs. \", \"Principal TP. 20hrs. \", \"Asociado TP. 10hrs. \", \"Auxiliar TP. 10hrs. \",\n",
    "# \"Auxiliar D. Exclusiva \", \"Principal D . E xclusiva\", \"Auxiliar TP. 04hrs. \"\n",
    "\n",
    "df[df['MODALIDAD'].isin(['Asociado T. Completo', 'Principal T. Completo', 'Asociado D . E xclusiva.',\n",
    "                        'Asociado TP. 20hrs. ', 'Principal TP. 20hrs. ', 'Asociado TP. 10hrs. ', 'Auxiliar TP. 10hrs. ', \n",
    "                        'Auxiliar D. Exclusiva ', 'Principal D . E xclusiva', 'Auxiliar TP. 04hrs. '])]"
   ]
  },
  {
   "cell_type": "code",
   "execution_count": 47,
   "id": "27d67fe9",
   "metadata": {},
   "outputs": [],
   "source": [
    "# Reemplazar los valores de la columna \"TIPO TRABAJADOR\" por la primera palabra del valor de la columna \"MODALIDAD\"\n",
    "df['TIPO_TRABAJADOR'] = df['MODALIDAD'].str.split(' ').str[0]"
   ]
  },
  {
   "cell_type": "code",
   "execution_count": 49,
   "id": "48b648a6",
   "metadata": {},
   "outputs": [],
   "source": [
    "# Borrar la primera palabra del valor de la columna \"MODALIDAD\"\n",
    "df['MODALIDAD'] = df['MODALIDAD'].str.split(' ').str[1:]"
   ]
  },
  {
   "cell_type": "code",
   "execution_count": 51,
   "id": "6d8c3f73",
   "metadata": {},
   "outputs": [],
   "source": [
    "# Mostrar los valores únicos de la columna \"MODALIDAD\"\n",
    "df['MODALIDAD'] = df['MODALIDAD'].apply(lambda x: ' '.join(x) if isinstance(x, list) else x)\n",
    "df['MODALIDAD'].unique()"
   ]
  },
  {
   "cell_type": "code",
   "execution_count": null,
   "id": "2469f12c",
   "metadata": {},
   "outputs": [],
   "source": [
    "# Mostrar el registro con valor \n",
    "df.all()"
   ]
  },
  {
   "cell_type": "code",
   "execution_count": null,
   "id": "fe6cb847",
   "metadata": {},
   "outputs": [],
   "source": [
    "#Identificar las filas donde TIPO DOC IDENTIDAD = DNI y N DOC IDENTIDAD < 8\n",
    "df[df['TIPO DOC IDENTIDAD'] == 'DNI'].loc[df['N DOC IDENTIDAD'].str.len() < 8]\n",
    "#Eliminar las filas donde TIPO DOC IDENTIDAD = DNI y N DOC IDENTIDAD < 8\n",
    "df = df[~((df['TIPO DOC IDENTIDAD'] == 'DNI') & (df['N DOC IDENTIDAD'].str.len() < 8))]\n",
    "df\n"
   ]
  },
  {
   "cell_type": "code",
   "execution_count": null,
   "id": "b4db2b86",
   "metadata": {},
   "outputs": [],
   "source": []
  }
 ],
 "metadata": {
  "kernelspec": {
   "display_name": ".venv",
   "language": "python",
   "name": "python3"
  },
  "language_info": {
   "codemirror_mode": {
    "name": "ipython",
    "version": 3
   },
   "file_extension": ".py",
   "mimetype": "text/x-python",
   "name": "python",
   "nbconvert_exporter": "python",
   "pygments_lexer": "ipython3",
   "version": "3.12.5"
  }
 },
 "nbformat": 4,
 "nbformat_minor": 5
}
